{
 "cells": [
  {
   "cell_type": "code",
   "execution_count": 181,
   "metadata": {},
   "outputs": [],
   "source": [
    "import numpy as np\n",
    "import pandas as pd\n",
    "import cvxpy as cp\n",
    "\n",
    "from sklearn.model_selection import train_test_split\n",
    "from sklearn.preprocessing import StandardScaler\n",
    "\n",
    "from sklearn.linear_model import LogisticRegression\n",
    "from sklearn.metrics import f1_score, accuracy_score\n",
    "\n",
    "from sklearn.base import BaseEstimator, ClassifierMixin"
   ]
  },
  {
   "cell_type": "code",
   "execution_count": 182,
   "metadata": {},
   "outputs": [],
   "source": [
    "import warnings\n",
    "warnings.filterwarnings('ignore')"
   ]
  },
  {
   "cell_type": "markdown",
   "metadata": {},
   "source": [
    "### HR\n"
   ]
  },
  {
   "cell_type": "code",
   "execution_count": 239,
   "metadata": {},
   "outputs": [],
   "source": [
    "data = pd.read_csv('dataHR.csv')\n",
    "\n",
    "target_column = 'Attrition'\n",
    "columns_to_dummies = ['BusinessTravel', 'Department', 'EducationField', 'JobRole', 'MaritalStatus', ]\n",
    "data['OverTime'] = (data['OverTime'] == 'Yes').astype(int)\n",
    "data['Gender'] = (data['Gender'] == 'Female').astype(int)\n",
    "data['Over18'] = (data['Over18'] == 'Y').astype(int)\n",
    "\n",
    "y = data[target_column]\n",
    "X = data.loc[:, data.columns != target_column]\n",
    "X = pd.get_dummies(X, dtype=float, columns=columns_to_dummies, drop_first=True)\n",
    "\n",
    "\n",
    "y.replace('Yes', 1, inplace=True)\n",
    "y.replace('No', -1, inplace=True)\n",
    "\n",
    "X_train, X_test, y_train, y_test = train_test_split(X, y, test_size=0.25, random_state=42)"
   ]
  },
  {
   "cell_type": "code",
   "execution_count": 240,
   "metadata": {},
   "outputs": [
    {
     "name": "stdout",
     "output_type": "stream",
     "text": [
      "0.5384615384615384\n",
      "0.9021739130434783\n"
     ]
    }
   ],
   "source": [
    "# logreg\n",
    "logreg = LogisticRegression().fit(X_train, y_train)\n",
    "y_pred = logreg.predict(X_test)\n",
    "\n",
    "print(f1_score(y_test, y_pred))\n",
    "print(accuracy_score(y_test, y_pred))"
   ]
  },
  {
   "cell_type": "code",
   "execution_count": 185,
   "metadata": {},
   "outputs": [],
   "source": [
    "class SLIM(BaseEstimator, ClassifierMixin):\n",
    "\n",
    "    def __init__(self, C0=0.05, C1=None, values = np.array([-5, -1, 1, 5]), intercept_values=None, w_pos=1.):\n",
    "        self.C0 = C0\n",
    "        self.C1 = C1\n",
    "        self.values = values\n",
    "        self.w_pos = w_pos\n",
    "        if intercept_values is not None:\n",
    "            self.intercept_values = intercept_values\n",
    "        else:\n",
    "            self.intercept_values = values\n",
    "\n",
    "\n",
    "    def fit(self, X, y, **solver_flags):\n",
    "        if isinstance(X, pd.DataFrame):\n",
    "            X = X.to_numpy()\n",
    "        if isinstance(y, pd.DataFrame) or isinstance(y, pd.Series):\n",
    "            y = y.to_numpy()\n",
    "\n",
    "        N = len(y)\n",
    "        S = X * y[:, None]\n",
    "\n",
    "        w = np.ones(len(y))\n",
    "        w[y == 1] *= self.w_pos\n",
    "\n",
    "        L = 100\n",
    "\n",
    "        lamb = cp.Variable((X.shape[1], len(self.values)), boolean=True)\n",
    "        intercept_lamb = cp.Variable(len(self.intercept_values), boolean=True)\n",
    "        #beta = cp.Variable(X.shape[1], boolean=True)\n",
    "\n",
    "        cons = [lamb.sum(1) <= 1, intercept_lamb.sum() <= 1]\n",
    "\n",
    "        loss = cp.sum(cp.multiply(w, cp.pos(1-S @ (lamb @ self.values + intercept_lamb @ self.intercept_values))))\n",
    "\n",
    "        if self.C1:\n",
    "            gamma = cp.Variable(X.shape[1], nonneg=True)\n",
    "            reg = self.C0 * cp.sum(lamb) + self.C1 * cp.sum(gamma)\n",
    "            cons.extend([lamb @ self.values <= gamma, lamb @ self.values >= -gamma])\n",
    "        else:\n",
    "            reg = self.C0 * cp.sum(lamb)\n",
    "\n",
    "\n",
    "\n",
    "        obj = cp.Minimize(loss / w.sum() + reg)\n",
    "        problem = cp.Problem(obj, cons)\n",
    "        problem.solve(**solver_flags)\n",
    "        self.params_ = np.rint(lamb.value @ self.values)\n",
    "        self.intercept_ = np.rint(intercept_lamb.value @ self.intercept_values)\n",
    "\n",
    "\n",
    "    def predict(self,X):\n",
    "        if isinstance(X, pd.DataFrame):\n",
    "            X = X.to_numpy()\n",
    "        y = np.ones(len(X))\n",
    "        y[X @ self.params_ + self.intercept_ > 0] = 1\n",
    "        y[X @ self.params_ + self.intercept_ <= 0] = -1\n",
    "        return y"
   ]
  },
  {
   "cell_type": "code",
   "execution_count": null,
   "metadata": {},
   "outputs": [],
   "source": [
    "ub = 1 /  (X_train.shape[0] * X_train.shape[1])\n",
    "values = np.array([1, 2, 3])\n",
    "values = np.hstack([-values, values])\n",
    "intercept_values = np.arange(1, 10)\n",
    "intercept_values = np.hstack([-intercept_values, intercept_values])\n",
    "\n",
    "model = SLIM(C0=ub, values=values, intercept_values=intercept_values,w_pos=4)\n",
    "model.fit(X_train, y_train, solver='SCIP', verbose=True)"
   ]
  },
  {
   "cell_type": "code",
   "execution_count": 230,
   "metadata": {},
   "outputs": [],
   "source": [
    "def print_meaningful_coefs(names, coefs):\n",
    "    for name, coef in zip(names, coefs):\n",
    "        if coef != 0.:\n",
    "            print(f\"{name} = {coef}\")"
   ]
  },
  {
   "cell_type": "code",
   "execution_count": 231,
   "metadata": {},
   "outputs": [
    {
     "name": "stdout",
     "output_type": "stream",
     "text": [
      "Over18 = -3.0\n",
      "OverTime = 1.0\n",
      "BusinessTravel_Travel_Frequently = 1.0\n",
      "BusinessTravel_Travel_Rarely = 1.0\n",
      "Department_Research & Development = 2.0\n",
      "Department_Sales = 2.0\n",
      "EducationField_Life Sciences = -2.0\n",
      "EducationField_Marketing = -2.0\n",
      "EducationField_Medical = -2.0\n",
      "EducationField_Other = -2.0\n",
      "EducationField_Technical Degree = -1.0\n",
      "JobRole_Human Resources = 3.0\n",
      "JobRole_Laboratory Technician = 2.0\n",
      "JobRole_Research Scientist = 1.0\n",
      "JobRole_Sales Executive = 1.0\n",
      "JobRole_Sales Representative = 2.0\n",
      "MaritalStatus_Single = 1.0\n"
     ]
    }
   ],
   "source": [
    "print_meaningful_coefs(X_train.columns, model.params_)"
   ]
  },
  {
   "cell_type": "code",
   "execution_count": 233,
   "metadata": {},
   "outputs": [
    {
     "name": "stdout",
     "output_type": "stream",
     "text": [
      "0.39316239316239315\n",
      "0.8070652173913043\n"
     ]
    }
   ],
   "source": [
    "y_pred = model.predict(X_test)\n",
    "\n",
    "print(f1_score(y_test, y_pred))\n",
    "print(accuracy_score(y_test, y_pred))"
   ]
  },
  {
   "cell_type": "markdown",
   "metadata": {},
   "source": [
    "### Students"
   ]
  },
  {
   "cell_type": "code",
   "execution_count": 242,
   "metadata": {},
   "outputs": [],
   "source": [
    "data = pd.read_csv('dataStudents.csv')\n",
    "columns_to_dummies = ['Ethnicity']\n",
    "target_column = 'GradeClass'\n",
    "\n",
    "y = data[target_column]\n",
    "X = data.loc[:, data.columns != target_column]\n",
    "X = pd.get_dummies(X, dtype=float, columns=columns_to_dummies, drop_first=True)\n",
    "X_train, X_test, y_train, y_test = train_test_split(X, y, test_size=0.25, random_state=42)"
   ]
  },
  {
   "cell_type": "code",
   "execution_count": 244,
   "metadata": {},
   "outputs": [
    {
     "name": "stdout",
     "output_type": "stream",
     "text": [
      "0.8930390492359933\n",
      "0.8946488294314381\n"
     ]
    }
   ],
   "source": [
    "# logreg\n",
    "logreg = LogisticRegression().fit(X_train, y_train)\n",
    "y_pred = logreg.predict(X_test)\n",
    "\n",
    "print(f1_score(y_test, y_pred))\n",
    "print(accuracy_score(y_test, y_pred))"
   ]
  },
  {
   "cell_type": "code",
   "execution_count": null,
   "metadata": {},
   "outputs": [],
   "source": [
    "ub = 1 /  (X_train.shape[0] * X_train.shape[1])\n",
    "values = np.array([1, 2, 3])\n",
    "values = np.hstack([-values, values])\n",
    "intercept_values = np.arange(1, 10)\n",
    "intercept_values = np.hstack([-intercept_values, intercept_values])\n",
    "\n",
    "model = SLIM(C0=ub/5, values=values, intercept_values=intercept_values,w_pos=1.)\n",
    "model.fit(X_train, y_train, solver='SCIP', verbose=True)"
   ]
  },
  {
   "cell_type": "code",
   "execution_count": 246,
   "metadata": {},
   "outputs": [
    {
     "name": "stdout",
     "output_type": "stream",
     "text": [
      "Age = -1.0\n",
      "Gender = 1.0\n",
      "ParentalEducation = 1.0\n",
      "Absences = 1.0\n",
      "Tutoring = -2.0\n",
      "Extracurricular = -1.0\n",
      "Sports = -1.0\n",
      "Volunteering = 2.0\n",
      "Ethnicity_1 = 1.0\n"
     ]
    }
   ],
   "source": [
    "print_meaningful_coefs(X_train.columns, model.params_)"
   ]
  },
  {
   "cell_type": "code",
   "execution_count": 220,
   "metadata": {},
   "outputs": [
    {
     "name": "stdout",
     "output_type": "stream",
     "text": [
      "0.6576879910213244\n",
      "0.4899665551839465\n"
     ]
    }
   ],
   "source": [
    "y_pred = model.predict(X_test)\n",
    "\n",
    "print(f1_score(y_test, y_pred))\n",
    "print(accuracy_score(y_test, y_pred))"
   ]
  },
  {
   "cell_type": "markdown",
   "metadata": {},
   "source": [
    "### Breast Cancer"
   ]
  },
  {
   "cell_type": "code",
   "execution_count": 295,
   "metadata": {},
   "outputs": [],
   "source": [
    "data = pd.read_csv('dataCancer.csv')\n",
    "target_column = 'class'\n",
    "y = data[target_column]\n",
    "X = data.loc[:, data.columns != target_column]\n",
    "y = 1 * (y == 4) + (-1) * (y == 2)\n",
    "\n",
    "X_train, X_test, y_train, y_test = train_test_split(X, y, test_size=0.25, random_state=42)"
   ]
  },
  {
   "cell_type": "code",
   "execution_count": 296,
   "metadata": {},
   "outputs": [
    {
     "name": "stdout",
     "output_type": "stream",
     "text": [
      "0.9384615384615386\n",
      "0.9532163742690059\n"
     ]
    }
   ],
   "source": [
    "# logreg\n",
    "logreg = LogisticRegression().fit(X_train, y_train)\n",
    "y_pred = logreg.predict(X_test)\n",
    "\n",
    "print(f1_score(y_test, y_pred))\n",
    "print(accuracy_score(y_test, y_pred))"
   ]
  },
  {
   "cell_type": "code",
   "execution_count": null,
   "metadata": {},
   "outputs": [],
   "source": [
    "ub = 1 /  (X_train.shape[0] * X_train.shape[1])\n",
    "values = np.array([1, 2, 3, 4, 5])\n",
    "values = np.hstack([-values, values])\n",
    "intercept_values = np.arange(1, 20)\n",
    "intercept_values = np.hstack([-intercept_values, intercept_values])\n",
    "\n",
    "model = SLIM(C0=ub, values=values, intercept_values=intercept_values,w_pos=1.)\n",
    "model.fit(X_train, y_train, solver='SCIP', verbose=True)"
   ]
  },
  {
   "cell_type": "code",
   "execution_count": 310,
   "metadata": {},
   "outputs": [
    {
     "name": "stdout",
     "output_type": "stream",
     "text": [
      "size_uniformity = 1.0\n",
      "epithelial_size = -1.0\n",
      "bare_nucleoli = 1.0\n",
      "bland_chromatin = -1.0\n",
      "normal_nucleoli = 1.0\n",
      "mitoses = -1.0\n"
     ]
    }
   ],
   "source": [
    "print_meaningful_coefs(X_train.columns, model.params_)"
   ]
  },
  {
   "cell_type": "code",
   "execution_count": 311,
   "metadata": {},
   "outputs": [
    {
     "name": "stdout",
     "output_type": "stream",
     "text": [
      "0.8372093023255813\n",
      "0.8771929824561403\n"
     ]
    }
   ],
   "source": [
    "y_pred = model.predict(X_test)\n",
    "\n",
    "print(f1_score(y_test, y_pred))\n",
    "print(accuracy_score(y_test, y_pred))"
   ]
  }
 ],
 "metadata": {
  "kernelspec": {
   "display_name": "base",
   "language": "python",
   "name": "python3"
  },
  "language_info": {
   "codemirror_mode": {
    "name": "ipython",
    "version": 3
   },
   "file_extension": ".py",
   "mimetype": "text/x-python",
   "name": "python",
   "nbconvert_exporter": "python",
   "pygments_lexer": "ipython3",
   "version": "3.11.0"
  }
 },
 "nbformat": 4,
 "nbformat_minor": 2
}
